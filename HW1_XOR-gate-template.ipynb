{
 "cells": [
  {
   "cell_type": "code",
   "execution_count": 2,
   "metadata": {},
   "outputs": [],
   "source": [
    "from __future__ import print_function\n",
    "import tensorflow as tf\n",
    "import numpy as np\n",
    "import matplotlib.pyplot as plt"
   ]
  },
  {
   "cell_type": "markdown",
   "metadata": {},
   "source": [
    "<h2>Define Hyper-parameters</h2>"
   ]
  },
  {
   "cell_type": "code",
   "execution_count": 3,
   "metadata": {},
   "outputs": [],
   "source": [
    "#define number of training iterations\n",
    "NUM_ITER = 10000\n",
    "#define learning rate\n",
    "lr = 0.05"
   ]
  },
  {
   "cell_type": "markdown",
   "metadata": {},
   "source": [
    "<h2>Define your input data and expected labels</h2>"
   ]
  },
  {
   "cell_type": "code",
   "execution_count": 4,
   "metadata": {},
   "outputs": [],
   "source": [
    "x = np.array([[0,0],[1,0],[1,1],[0,1]],np.float32)\n",
    "y = np.array([0, 1, 0, 1],np.float32)\n",
    "y = np.reshape(y,[4,1])"
   ]
  },
  {
   "cell_type": "markdown",
   "metadata": {},
   "source": [
    "<h2>Define placeholder and Variables</h2>"
   ]
  },
  {
   "cell_type": "code",
   "execution_count": 5,
   "metadata": {},
   "outputs": [
    {
     "name": "stdout",
     "output_type": "stream",
     "text": [
      "WARNING:tensorflow:From c:\\users\\ersl-1\\anaconda\\envs\\virtualenvee596\\lib\\site-packages\\tensorflow\\python\\framework\\op_def_library.py:263: colocate_with (from tensorflow.python.framework.ops) is deprecated and will be removed in a future version.\n",
      "Instructions for updating:\n",
      "Colocations handled automatically by placer.\n"
     ]
    }
   ],
   "source": [
    "tf.reset_default_graph()\n",
    "X = tf.placeholder(tf.float32,shape=[4,2],name='X')\n",
    "Y = tf.placeholder(tf.float32,shape=[4,1],name='Y')\n",
    "W1 = tf.Variable(tf.random_normal([2,2]),tf.float32,name='W1')\n",
    "b1 = tf.Variable(tf.zeros([2]),tf.float32,name='b1')\n",
    "W2 = tf.Variable(tf.random_normal([2,1]),tf.float32,name='W2')\n",
    "b2 = tf.Variable(tf.zeros([1]),tf.float32,name='b2')"
   ]
  },
  {
   "cell_type": "markdown",
   "metadata": {},
   "source": [
    "<h2>Define the neural network</h2>"
   ]
  },
  {
   "cell_type": "code",
   "execution_count": 6,
   "metadata": {},
   "outputs": [],
   "source": [
    "Z1 = tf.add(tf.matmul(X, W1), b1)\n",
    "A1 = tf.nn.sigmoid(Z1)\n",
    "Z2 = tf.add(tf.matmul(A1, W2), b2)\n",
    "logits = Z2\n",
    "labels = Y\n",
    "\n",
    "cost = tf.reduce_sum(tf.nn.sigmoid_cross_entropy_with_logits(logits = logits, labels = labels))\n",
    "optimizer = tf.train.GradientDescentOptimizer(lr).minimize(cost)\n",
    "\n",
    "#compare the predicted labels with true labels\n",
    "Y_hat = tf.round(tf.sigmoid(Z2))\n",
    "correct_pred = tf.equal(Y,Y_hat)\n",
    "#compute the accuracy by taking average\n",
    "accuracy = tf.reduce_mean(tf.cast(correct_pred,tf.float32),name='accuracy')"
   ]
  },
  {
   "cell_type": "markdown",
   "metadata": {},
   "source": [
    "<h2>Define cost function</h2>"
   ]
  },
  {
   "cell_type": "markdown",
   "metadata": {},
   "source": []
  },
  {
   "cell_type": "markdown",
   "metadata": {},
   "source": [
    "<h2>Execute training</h2>"
   ]
  },
  {
   "cell_type": "code",
   "execution_count": 12,
   "metadata": {
    "scrolled": false
   },
   "outputs": [
    {
     "name": "stdout",
     "output_type": "stream",
     "text": [
      "step 0, Accuracy= 0.500\n",
      "step 100, Accuracy= 0.500\n",
      "step 200, Accuracy= 0.500\n",
      "step 300, Accuracy= 0.500\n",
      "step 400, Accuracy= 0.500\n",
      "step 500, Accuracy= 0.500\n",
      "step 600, Accuracy= 0.500\n",
      "step 700, Accuracy= 0.750\n",
      "step 800, Accuracy= 0.750\n",
      "step 900, Accuracy= 0.750\n",
      "step 1000, Accuracy= 0.750\n",
      "step 1100, Accuracy= 0.750\n",
      "step 1200, Accuracy= 0.750\n",
      "step 1300, Accuracy= 0.750\n",
      "step 1400, Accuracy= 0.750\n",
      "step 1500, Accuracy= 1.000\n",
      "step 1600, Accuracy= 1.000\n",
      "step 1700, Accuracy= 1.000\n",
      "step 1800, Accuracy= 1.000\n",
      "step 1900, Accuracy= 1.000\n",
      "step 2000, Accuracy= 1.000\n",
      "step 2100, Accuracy= 1.000\n",
      "step 2200, Accuracy= 1.000\n",
      "step 2300, Accuracy= 1.000\n",
      "step 2400, Accuracy= 1.000\n",
      "step 2500, Accuracy= 1.000\n",
      "step 2600, Accuracy= 1.000\n",
      "step 2700, Accuracy= 1.000\n",
      "step 2800, Accuracy= 1.000\n",
      "step 2900, Accuracy= 1.000\n",
      "step 3000, Accuracy= 1.000\n",
      "step 3100, Accuracy= 1.000\n",
      "step 3200, Accuracy= 1.000\n",
      "step 3300, Accuracy= 1.000\n",
      "step 3400, Accuracy= 1.000\n",
      "step 3500, Accuracy= 1.000\n",
      "step 3600, Accuracy= 1.000\n",
      "step 3700, Accuracy= 1.000\n",
      "step 3800, Accuracy= 1.000\n",
      "step 3900, Accuracy= 1.000\n",
      "step 4000, Accuracy= 1.000\n",
      "step 4100, Accuracy= 1.000\n",
      "step 4200, Accuracy= 1.000\n",
      "step 4300, Accuracy= 1.000\n",
      "step 4400, Accuracy= 1.000\n",
      "step 4500, Accuracy= 1.000\n",
      "step 4600, Accuracy= 1.000\n",
      "step 4700, Accuracy= 1.000\n",
      "step 4800, Accuracy= 1.000\n",
      "step 4900, Accuracy= 1.000\n",
      "step 5000, Accuracy= 1.000\n",
      "step 5100, Accuracy= 1.000\n",
      "step 5200, Accuracy= 1.000\n",
      "step 5300, Accuracy= 1.000\n",
      "step 5400, Accuracy= 1.000\n",
      "step 5500, Accuracy= 1.000\n",
      "step 5600, Accuracy= 1.000\n",
      "step 5700, Accuracy= 1.000\n",
      "step 5800, Accuracy= 1.000\n",
      "step 5900, Accuracy= 1.000\n",
      "step 6000, Accuracy= 1.000\n",
      "step 6100, Accuracy= 1.000\n",
      "step 6200, Accuracy= 1.000\n",
      "step 6300, Accuracy= 1.000\n",
      "step 6400, Accuracy= 1.000\n",
      "step 6500, Accuracy= 1.000\n",
      "step 6600, Accuracy= 1.000\n",
      "step 6700, Accuracy= 1.000\n",
      "step 6800, Accuracy= 1.000\n",
      "step 6900, Accuracy= 1.000\n",
      "step 7000, Accuracy= 1.000\n",
      "step 7100, Accuracy= 1.000\n",
      "step 7200, Accuracy= 1.000\n",
      "step 7300, Accuracy= 1.000\n",
      "step 7400, Accuracy= 1.000\n",
      "step 7500, Accuracy= 1.000\n",
      "step 7600, Accuracy= 1.000\n",
      "step 7700, Accuracy= 1.000\n",
      "step 7800, Accuracy= 1.000\n",
      "step 7900, Accuracy= 1.000\n",
      "step 8000, Accuracy= 1.000\n",
      "step 8100, Accuracy= 1.000\n",
      "step 8200, Accuracy= 1.000\n",
      "step 8300, Accuracy= 1.000\n",
      "step 8400, Accuracy= 1.000\n",
      "step 8500, Accuracy= 1.000\n",
      "step 8600, Accuracy= 1.000\n",
      "step 8700, Accuracy= 1.000\n",
      "step 8800, Accuracy= 1.000\n",
      "step 8900, Accuracy= 1.000\n",
      "step 9000, Accuracy= 1.000\n",
      "step 9100, Accuracy= 1.000\n",
      "step 9200, Accuracy= 1.000\n",
      "step 9300, Accuracy= 1.000\n",
      "step 9400, Accuracy= 1.000\n",
      "step 9500, Accuracy= 1.000\n",
      "step 9600, Accuracy= 1.000\n",
      "step 9700, Accuracy= 1.000\n",
      "step 9800, Accuracy= 1.000\n",
      "step 9900, Accuracy= 1.000\n",
      "Input state: \n",
      "[[0. 0.]\n",
      " [1. 0.]\n",
      " [1. 1.]\n",
      " [0. 1.]]\n",
      "Output state: \n",
      "[[0.]\n",
      " [1.]\n",
      " [0.]\n",
      " [1.]]\n"
     ]
    }
   ],
   "source": [
    "#initialize tensorflow variables\n",
    "init = tf.global_variables_initializer()\n",
    "\n",
    "#start tensorflow session\n",
    "with tf.Session() as sess:\n",
    "    #run initialization\n",
    "    sess.run(init)\n",
    "    #training for number of iterations\n",
    "    for epoch in range(NUM_ITER):\n",
    "        sess.run([optimizer],feed_dict = {X:x,Y:y})\n",
    "        #correct_prediction = tf.equal(tf.argmax(Z2), tf.argmax(Y))\n",
    "        #accuracy = tf.reduce_mean(tf.cast(correct_prediction, \"float\"))\n",
    "        #print(sess.run(accuracy,feed_dict = {X:x,Y:y}))\n",
    "        \n",
    "        if(epoch % 100 == 0):\n",
    "            acc = sess.run(accuracy,feed_dict={X:x,Y:y})\n",
    "            print(\"step \"+str(epoch)+\", Accuracy= {:.3f}\".format(acc))\n",
    "    print(\"Input state: \")    \n",
    "    print(sess.run(X,feed_dict = {X:x,Y:y}))\n",
    "    print(\"Output state: \")\n",
    "    print(sess.run(Y,feed_dict = {X:x,Y:y})) \n",
    "    #sess.close()\n",
    "    W11 = np.squeeze(sess.run(W1))\n",
    "    b11 = np.squeeze(sess.run(b1))\n",
    "    W22 = np.squeeze(sess.run(W2))\n",
    "    b22 = np.squeeze(sess.run(b2))\n",
    "    #print(sess.run(Y_hat), feed_dict = {X:x, Y:y}) \n",
    "#sess.close()\n",
    "    "
   ]
  },
  {
   "cell_type": "markdown",
   "metadata": {},
   "source": [
    "<h2>Plot</h2>"
   ]
  },
  {
   "cell_type": "code",
   "execution_count": 8,
   "metadata": {},
   "outputs": [
    {
     "name": "stdout",
     "output_type": "stream",
     "text": [
      "(2,)\n",
      "(2,)\n"
     ]
    },
    {
     "data": {
      "image/png": "[encoded data removed]",
      "text/plain": [
       "<Figure size 432x288 with 1 Axes>"
      ]
     },
     "metadata": {
      "needs_background": "light"
     },
     "output_type": "display_data"
    }
   ],
   "source": [
    "#plot out the decision line determined by learned weight and bias\n",
    "import matplotlib.pyplot as plt\n",
    "#b11 = np.reshape(b11,[2,])\n",
    "\n",
    "plot_x1 = np.array([np.min(x[:, 0] - 0.2), np.max(x[:, 1]+0.2)])\n",
    "plot_y1 = 1 / W11[1,0] * (-W11[0,0] * plot_x1 - b11[0])\n",
    "plot_y12 = 1 / W11[1,1] * (-W11[0,1] * plot_x1 - b11[1])\n",
    "\n",
    "#plot_y1 = np.reshape(plot_y1,[2,-1])\n",
    "#plot_y1 = np.squeeze(plot_y1)\n",
    "\n",
    "#plot_y12 = np.reshape(plot_y12,[2,-1])\n",
    "#plot_y12 = np.squeeze(plot_y12)\n",
    "\n",
    "print(plot_x1.shape)\n",
    "print(plot_y1.shape)\n",
    "\n",
    "plt.scatter(x[:, 0], x[:, 1], c=np.squeeze(y), s=100, cmap='viridis')\n",
    "plt.plot(plot_x1, plot_y1, color='k', linewidth=2)\n",
    "plt.plot(plot_x1, plot_y12, color='k', linewidth=2)\n",
    "plt.xlim([-0.2, 1.2]); plt.ylim([-0.2, 1.25]);\n",
    "plt.show()"
   ]
  },
  {
   "cell_type": "code",
   "execution_count": null,
   "metadata": {},
   "outputs": [],
   "source": []
  }
 ],
 "metadata": {
  "kernelspec": {
   "display_name": "Python 3",
   "language": "python",
   "name": "python3"
  },
  "language_info": {
   "codemirror_mode": {
    "name": "ipython",
    "version": 3
   },
   "file_extension": ".py",
   "mimetype": "text/x-python",
   "name": "python",
   "nbconvert_exporter": "python",
   "pygments_lexer": "ipython3",
   "version": "3.7.3"
  }
 },
 "nbformat": 4,
 "nbformat_minor": 2
}
