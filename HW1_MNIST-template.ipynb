{
 "cells": [
  {
   "cell_type": "code",
   "execution_count": 348,
   "metadata": {},
   "outputs": [],
   "source": [
    "import tensorflow as tf\n",
    "old_v = tf.logging.get_verbosity()\n",
    "tf.logging.set_verbosity(tf.logging.ERROR)"
   ]
  },
  {
   "cell_type": "markdown",
   "metadata": {},
   "source": [
    "<h2>Extract MNIST data</h2>\n",
    "<p style=\"font-size:20px\">You can change the option of one_hot encoding."
   ]
  },
  {
   "cell_type": "code",
   "execution_count": 349,
   "metadata": {},
   "outputs": [
    {
     "name": "stdout",
     "output_type": "stream",
     "text": [
      "Extracting MNIST_data/train-images-idx3-ubyte.gz\n",
      "Extracting MNIST_data/train-labels-idx1-ubyte.gz\n",
      "Extracting MNIST_data/t10k-images-idx3-ubyte.gz\n",
      "Extracting MNIST_data/t10k-labels-idx1-ubyte.gz\n"
     ]
    }
   ],
   "source": [
    "from tensorflow.examples.tutorials.mnist import input_data\n",
    "#get mnist data, with one_hot encoding\n",
    "mnist = input_data.read_data_sets(\"MNIST_data/\",one_hot=True)\n",
    "#suppress warnings\n",
    "tf.logging.set_verbosity(old_v)\n",
    "\n",
    "num_train = mnist.train.num_examples #55,000\n",
    "num_validation = mnist.validation.num_examples #5000\n",
    "num_test = mnist.test.num_examples #10,000"
   ]
  },
  {
   "cell_type": "markdown",
   "metadata": {},
   "source": [
    "<h2>Define hyperparameters</h2>"
   ]
  },
  {
   "cell_type": "code",
   "execution_count": 375,
   "metadata": {},
   "outputs": [],
   "source": [
    "#learning rate\n",
    "#lr = 0.005\n",
    "lr = 0.005\n",
    "#number of traning steps\n",
    "#num_steps =1750\n",
    "#number of batch_size\n",
    "#batch_size = 32\n",
    "num_steps = 2000\n",
    "batch_size = 32\n",
    "\n",
    "#network parameters\n",
    "n_hidden_1 = 4000\n",
    "n_hidden_2 = 4000\n",
    "#n_hidden_3 = 1200\n",
    "num_input = 784\n",
    "num_classes = 10"
   ]
  },
  {
   "cell_type": "markdown",
   "metadata": {},
   "source": [
    "<h2>Define placeholder and Variables</h2>"
   ]
  },
  {
   "cell_type": "code",
   "execution_count": 376,
   "metadata": {},
   "outputs": [],
   "source": [
    "tf.reset_default_graph()\n",
    "\n",
    "#tf graph input\n",
    "X = tf.placeholder(tf.float32,[None,num_input],name='X')\n",
    "Y = tf.placeholder(tf.int32,[None,num_classes],name='Y')\n",
    "rate = tf.placeholder(tf.float32)\n",
    "\n",
    "#Layers weight & bias\n",
    "weights = {\n",
    "    'W1': tf.Variable(tf.random_normal([num_input, n_hidden_1]),name='W1'),\n",
    "    'W2': tf.Variable(tf.random_normal([n_hidden_1, n_hidden_2]),name='W2'),\n",
    "    #'W3': tf.Variable(tf.random_normal([n_hidden_2, n_hidden_3]),name='W3'),\n",
    "    'Wout': tf.Variable(tf.random_normal([n_hidden_2, num_classes]),name='Wout')\n",
    "}\n",
    "\n",
    "biases = {\n",
    "    'b1': tf.Variable(tf.zeros(shape=[n_hidden_1]),name='b1'),\n",
    "    'b2': tf.Variable(tf.zeros(shape=[n_hidden_2]),name='b2'),\n",
    "    #'b3': tf.Variable(tf.zeros(shape=[n_hidden_3]),name='b3'),\n",
    "    'bout': tf.Variable(tf.zeros(shape=[num_classes]),name='bout')\n",
    "}"
   ]
  },
  {
   "cell_type": "markdown",
   "metadata": {},
   "source": [
    "<h2>Define neural network</h2>"
   ]
  },
  {
   "cell_type": "code",
   "execution_count": 377,
   "metadata": {},
   "outputs": [],
   "source": [
    "#define a neural net model\n",
    "def neural_net(x):\n",
    "    \n",
    "    layer_1_out = tf.add(tf.matmul(x,weights['W1']),biases['b1'])\n",
    "    #drop_out_temp = tf.nn.dropout(layer_1_out)\n",
    "    layer_1_out = tf.nn.relu(layer_1_out)\n",
    "    drop_out = tf.layers.dropout(layer_1_out, rate)\n",
    "    \n",
    "    #layer_1_out = tf.nn.sigmoid(layer_1_out)\n",
    "    layer_2_out = tf.add(tf.matmul(drop_out,weights['W2']),biases['b2'])\n",
    "    layer_2_out = tf.nn.relu(layer_2_out)\n",
    "    \n",
    "    #layer_3_out = tf.add(tf.matmul(layer_2_out,weights['W3']),biases['b3'])\n",
    "    #layer_3_out = tf.nn.relu(layer_3_out)\n",
    "    \n",
    "    drop_out = tf.layers.dropout(layer_2_out, rate)\n",
    "    out = tf.add(tf.matmul(drop_out,weights['Wout']),biases['bout'])\n",
    "    return out"
   ]
  },
  {
   "cell_type": "markdown",
   "metadata": {},
   "source": [
    "<h2>Define cost function and accuracy</h2>"
   ]
  },
  {
   "cell_type": "code",
   "execution_count": 378,
   "metadata": {},
   "outputs": [],
   "source": [
    "\n",
    "#predicted labels\n",
    "logits = neural_net(X)\n",
    "\n",
    "#define loss\n",
    "loss = tf.reduce_mean(tf.nn.softmax_cross_entropy_with_logits_v2(logits=logits,labels=Y),name='loss')\n",
    "#define optimizer\n",
    "optimizer = tf.train.GradientDescentOptimizer(learning_rate=lr)\n",
    "train_op = optimizer.minimize(loss)\n",
    "\n",
    "#compare the predicted labels with true labels\n",
    "correct_pred = tf.equal(tf.argmax(logits,1),tf.argmax(Y,1))\n",
    "\n",
    "#compute the accuracy by taking average\n",
    "accuracy = tf.reduce_mean(tf.cast(correct_pred,tf.float32),name='accuracy')\n",
    "\n",
    "#Initialize the variables\n",
    "init = tf.global_variables_initializer()"
   ]
  },
  {
   "cell_type": "markdown",
   "metadata": {},
   "source": [
    "<h2>Execute training</h2>"
   ]
  },
  {
   "cell_type": "code",
   "execution_count": 381,
   "metadata": {},
   "outputs": [
    {
     "name": "stdout",
     "output_type": "stream",
     "text": [
      "step 0, Accuracy= 0.406\n",
      "step 100, Accuracy= 0.938\n",
      "step 200, Accuracy= 0.938\n",
      "step 300, Accuracy= 1.000\n",
      "step 400, Accuracy= 1.000\n",
      "step 500, Accuracy= 1.000\n",
      "step 600, Accuracy= 0.938\n",
      "step 700, Accuracy= 1.000\n",
      "step 800, Accuracy= 1.000\n",
      "step 900, Accuracy= 0.969\n",
      "step 1000, Accuracy= 1.000\n",
      "step 1100, Accuracy= 1.000\n",
      "step 1200, Accuracy= 1.000\n",
      "step 1300, Accuracy= 1.000\n",
      "step 1400, Accuracy= 1.000\n",
      "step 1500, Accuracy= 1.000\n",
      "step 1600, Accuracy= 1.000\n",
      "step 1700, Accuracy= 1.000\n",
      "step 1800, Accuracy= 0.969\n",
      "step 1900, Accuracy= 1.000\n",
      "Training finished!\n",
      "Testing ACcuracy: 0.9601\n"
     ]
    }
   ],
   "source": [
    "\n",
    "with tf.Session() as sess:\n",
    "    sess.run(init)\n",
    "    \n",
    "    for i in range(num_steps):\n",
    "        #fetch batch\n",
    "        batch_x, batch_y = mnist.train.next_batch(batch_size)\n",
    "        #run optimization\n",
    "        sess.run(train_op, feed_dict={X:batch_x, Y:batch_y, rate: 0.5})\n",
    "        if i % 100 ==0:\n",
    "            acc = sess.run(accuracy,feed_dict={X:batch_x, Y:batch_y, rate: 0.5})\n",
    "            print(\"step \"+str(i)+\", Accuracy= {:.3f}\".format(acc))\n",
    "            #print(mnist.train.shape())\n",
    "    \n",
    "    print(\"Training finished!\")\n",
    "    \n",
    "    print(\"Testing ACcuracy:\", sess.run(accuracy, feed_dict={X:mnist.test.images, Y:mnist.test.labels, rate: 1}))"
   ]
  },
  {
   "cell_type": "markdown",
   "metadata": {},
   "source": [
    "<h2>Your results</h2>"
   ]
  },
  {
   "cell_type": "markdown",
   "metadata": {},
   "source": [
    "During this project, I stated from the example of the MNIST illustrated in the classroom. First of all, the example lacks of activation function in the hidden layers so I add two reLu functions as the activation functions of the two hidden layers, which imporved the training accuracy and testing accuracy a little and both of the accuracies are below 90%. I then added another hidden layer to the networks, which to my surprise decreased the accuracy, so I removed the third hidden layers. Then, I decreased the learning rate to 0.005, which imporved the performance of the network. Then, I realized that the depth of a single layer should affect the results, so I increased the hidden layer 1 and 2 to 4000 neurons each, which significantly imporved the performance of the code: the training results are approaching 100% and the testing accuracy is around 96%."
   ]
  },
  {
   "cell_type": "markdown",
   "metadata": {},
   "source": [
    "|Trial Numbers|learning rate|number of neurons in one layer|number of layers|drop out ratio|test accuracy|\n",
    "|---|---|---|---|---|---|\n",
    "|trial1|0.5|300|2|0|85%|\n",
    "|trial2|0.01|300|2|0|Increase|\n",
    "|trial3|0.005|300|2|0|Increase|\n",
    "|trial4|0.001|300|2|0|No change|\n",
    "|trial5|0.005|200|2|0|Decrease|\n",
    "|trial6|0.005|1000|2|0|Increase|\n",
    "|trial7|0.005|2000|2|0|Increase|\n",
    "|trial8|0.005|3000|2|0|Increase|\n",
    "|trial9|0.005|4000|2|0|No change|\n",
    "|trial10|0.005|3000|3|0|Decrease|\n",
    "|trial11|0.005|3000|2|0.7|Increase|\n",
    "|trial12|0.005|3000|3|0.5|Increase|\n",
    "|trial13|0.005|3000|3|0.3|Decrease|\n",
    "|Optimal|0.005|3000|3|0.5|96%|"
   ]
  },
  {
   "cell_type": "markdown",
   "metadata": {},
   "source": []
  }
 ],
 "metadata": {
  "kernelspec": {
   "display_name": "Python 3",
   "language": "python",
   "name": "python3"
  },
  "language_info": {
   "codemirror_mode": {
    "name": "ipython",
    "version": 3
   },
   "file_extension": ".py",
   "mimetype": "text/x-python",
   "name": "python",
   "nbconvert_exporter": "python",
   "pygments_lexer": "ipython3",
   "version": "3.7.3"
  }
 },
 "nbformat": 4,
 "nbformat_minor": 2
}
