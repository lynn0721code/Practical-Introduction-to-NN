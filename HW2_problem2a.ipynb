{
 "cells": [
  {
   "cell_type": "code",
   "execution_count": 2,
   "metadata": {},
   "outputs": [],
   "source": [
    "import pickle\n",
    "import numpy as np\n",
    "import matplotlib.pyplot as plt\n",
    "import load_cifar"
   ]
  },
  {
   "cell_type": "markdown",
   "metadata": {},
   "source": [
    "<p style=\"font-size:20px\">You will define the preprocessing functions in <b>load_cifar.py</b>. Once you are done, you can verify the functions in this template and prepare your data well.</p>"
   ]
  },
  {
   "cell_type": "code",
   "execution_count": 3,
   "metadata": {},
   "outputs": [],
   "source": [
    "#define your folder directory\n",
    "folder_path = 'C:/Users/ERSL-1/Desktop/PracticalIntroductionNN-master2/PracticalIntroductionNN-master/HW2_template/'\n",
    "#folder_path = ''\n",
    "#folder_path = 'C:\\Users\\ERSL-1\\Desktop\\PracticalIntroductionNN-master2\\PracticalIntroductionNN-master\\HW2_template\\''"
   ]
  },
  {
   "cell_type": "markdown",
   "metadata": {},
   "source": [
    "<h1>load data</h1>\n",
    "<p style=\"font-size:20px\">Check your functinons load_training_batch and load_testing_batch function are correct."
   ]
  },
  {
   "cell_type": "code",
   "execution_count": 3,
   "metadata": {},
   "outputs": [
    {
     "name": "stdout",
     "output_type": "stream",
     "text": [
      "(10000, 3072)\n",
      "10000\n"
     ]
    }
   ],
   "source": [
    "'''\n",
    "#######example: load the data_batch_1 , FEEL FREE TO CHANGE #######\n",
    "batch_1 = load_cifar.load_training_batch(folder_path,1)\n",
    "#print(batch_1)\n",
    "\n",
    "######VERIFY THE KEYS, SHAPE OF EACH BATCH #####\n",
    "print(batch_1.keys())\n",
    "#make sure you see the keys are ['batch_label','labels','data','filenames']\n",
    "features_1 = batch_1['data']\n",
    "print(features_1.shape)\n",
    "#you should see the shape is (10000,3072)\n",
    "labels_1 = batch_1['labels']\n",
    "print(len(labels_1))\n",
    "#the length of labels_1 should be 10000\n",
    "'''\n",
    "\n",
    "features_1, labels_1 = load_cifar.load_training_batch(folder_path,1)\n",
    "print(features_1.shape)\n",
    "print(len(labels_1))"
   ]
  },
  {
   "cell_type": "markdown",
   "metadata": {},
   "source": [
    "<h1>features reshape</h1>\n",
    "<p style=\"font-size:20px\">Verify features_reshape() function."
   ]
  },
  {
   "cell_type": "code",
   "execution_count": 4,
   "metadata": {},
   "outputs": [
    {
     "name": "stdout",
     "output_type": "stream",
     "text": [
      "(10000, 32, 32, 3)\n"
     ]
    }
   ],
   "source": [
    "######example: reshape the features of batch_1 , FEEL FREE TO CHANGE#####\n",
    "features_1 = load_cifar.features_reshape(features_1)\n",
    "print(features_1.shape)\n",
    "#you should see the shape is (10000,32,32,3)\n",
    "\n"
   ]
  },
  {
   "cell_type": "markdown",
   "metadata": {},
   "source": [
    "<h1>display data stat (optional)</h1>\n",
    "<p style=\"font-size:20px\">If you implement this function, you could see the stats of specific batch data and also you can visualize specific data image</p>"
   ]
  },
  {
   "cell_type": "code",
   "execution_count": 5,
   "metadata": {},
   "outputs": [],
   "source": [
    "#check the 7000 example of batch_3, you should see an \"airplane\"\n",
    "#Not implemented\n",
    "#data_id = 7000\n",
    "#batch_id = 3\n",
    "#display_data_stat(folder_path,batch_id,data_id)"
   ]
  },
  {
   "cell_type": "markdown",
   "metadata": {},
   "source": [
    "<h1>Run preprocess data function</h1>\n",
    "<p style=\"font-size:20px\">This functions will load all training and testing batches, separate the validation set, and save them as \"Pickle\" objects</p>"
   ]
  },
  {
   "cell_type": "code",
   "execution_count": 5,
   "metadata": {},
   "outputs": [],
   "source": [
    "load_cifar.preprocess_data(folder_path)"
   ]
  },
  {
   "cell_type": "markdown",
   "metadata": {},
   "source": [
    "<h1>load preprocessed training,validation and testing data</h1>\n",
    "<p style=\"font-size:20px\">Check the shape of your preprocessed data files</p>"
   ]
  },
  {
   "cell_type": "code",
   "execution_count": 4,
   "metadata": {},
   "outputs": [
    {
     "name": "stdout",
     "output_type": "stream",
     "text": [
      "(30000, 3072)\n",
      "(10000, 10)\n",
      "(1028, 3072)\n"
     ]
    }
   ],
   "source": [
    "#### EXAMPLE, FEEL FREE TO CHANGE #####\n",
    "'''\n",
    "valid_features, valid_labels = pickle.load(open('processed_validate','rb'))\n",
    "training_features, training_labels = pickle.load(open('processed_train1','rb'))\n",
    "test_features, test_labels = pickle.load(open('processed_test','rb'))\n",
    "'''\n",
    "\n",
    "valid_dict = pickle.load(open('processed_validate','rb'))\n",
    "train_dict1 = pickle.load(open('processed_train1','rb'))\n",
    "train_dict2 = pickle.load(open('processed_train2','rb'))\n",
    "test_dict  = pickle.load(open('processed_test','rb'))\n",
    "\n",
    "valid_features = valid_dict['normal feature']\n",
    "valid_labels   = valid_dict['one hot labels']\n",
    "\n",
    "train_features1 = train_dict1['normal feature']\n",
    "train_labels1   = train_dict1['one hot labels']\n",
    "\n",
    "train_features2 = train_dict2['normal feature']\n",
    "train_labels2   = train_dict2['one hot labels']\n",
    "\n",
    "test_features = test_dict['normal feature']\n",
    "test_labels   = test_dict['one hot labels']\n",
    "\n",
    "X = np.concatenate((train_features1,train_features2,train_features1))\n",
    "Y = train_labels1 + train_labels2\n",
    "\n",
    "num_steps = 0\n",
    "batch_x_train = train_features1[num_steps*1028:(num_steps+1)*1028,:]\n",
    "\n",
    "print(np.shape(X))\n",
    "print(np.shape(Y))\n",
    "print(np.shape(batch_x_train))"
   ]
  },
  {
   "cell_type": "code",
   "execution_count": 5,
   "metadata": {},
   "outputs": [
    {
     "name": "stdout",
     "output_type": "stream",
     "text": [
      "(10000, 3072)\n",
      "(10000, 10)\n",
      "[[0.23137255 0.16862745 0.19607843 ... 0.54901961 0.32941176 0.28235294]\n",
      " [0.60392157 0.49411765 0.41176471 ... 0.54509804 0.55686275 0.56470588]\n",
      " [1.         0.99215686 0.99215686 ... 0.3254902  0.3254902  0.32941176]\n",
      " ...\n",
      " [0.27843137 0.23529412 0.29019608 ... 0.26666667 0.27058824 0.26666667]\n",
      " [0.98039216 0.99607843 0.82745098 ... 0.84313725 1.         0.99607843]\n",
      " [0.24313725 0.23921569 0.23529412 ... 0.50980392 0.50980392 0.51372549]]\n"
     ]
    }
   ],
   "source": [
    "#check the shape of data and labels, please make sure there is no error\n",
    "#before you implement your neural network.\n",
    "print(np.shape(train_features1))\n",
    "print(np.shape(train_labels1))\n",
    "\n",
    "print(train_features1)"
   ]
  },
  {
   "cell_type": "code",
   "execution_count": null,
   "metadata": {},
   "outputs": [],
   "source": []
  }
 ],
 "metadata": {
  "kernelspec": {
   "display_name": "Python 3",
   "language": "python",
   "name": "python3"
  },
  "language_info": {
   "codemirror_mode": {
    "name": "ipython",
    "version": 3
   },
   "file_extension": ".py",
   "mimetype": "text/x-python",
   "name": "python",
   "nbconvert_exporter": "python",
   "pygments_lexer": "ipython3",
   "version": "3.7.3"
  }
 },
 "nbformat": 4,
 "nbformat_minor": 2
}
